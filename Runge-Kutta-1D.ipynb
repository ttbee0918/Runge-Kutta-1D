{
 "cells": [
  {
   "cell_type": "code",
   "execution_count": 104,
   "metadata": {},
   "outputs": [],
   "source": [
    "# this is a practice program of runge kutta method\n",
    "import numpy as np\n",
    "import matplotlib.pyplot as plt\n",
    "\n",
    "# the differential equation \"dy/dx = (x-y)/2\"\n",
    "def dydx(x,y):\n",
    "    return (x-y)/2\n",
    "\n",
    "# Find y for a given initial x0, y0, final x_end by using step size h\n",
    "def RK45(x0,y0,x_end,h):\n",
    "    x = np.arange(x0,x_end,h)\n",
    "    y = np.zeros(np.size(x))\n",
    "\n",
    "    # Iteration\n",
    "    x[0] = x0\n",
    "    y[0] = y0\n",
    "    for i in range(len(x)-1):\n",
    "        # Apply Runge Kutta order4(5)\n",
    "        k1 = h * dydx(x[i],y[i])\n",
    "        k2 = h * dydx(x[i]+0.5*h,y[i]+0.5*k1)\n",
    "        k3 = h * dydx(x[i]+0.5*h,y[i]+0.5*k2)\n",
    "        k4 = h * dydx(x[i]+h,y[i]+k3)\n",
    "        \n",
    "        # update y\n",
    "        y[i+1] = y[i] +(1.0 / 6.0)*(k1+2*k2+2*k3+k4)\n",
    "        \n",
    "    return x,y"
   ]
  },
  {
   "cell_type": "code",
   "execution_count": 105,
   "metadata": {
    "scrolled": false
   },
   "outputs": [
    {
     "name": "stdout",
     "output_type": "stream",
     "text": [
      "x= [ 0.   0.2  0.4  0.6  0.8  1.   1.2  1.4  1.6  1.8  2.   2.2  2.4  2.6\n",
      "  2.8  3.   3.2  3.4  3.6  3.8  4.   4.2  4.4  4.6  4.8  5.   5.2  5.4\n",
      "  5.6  5.8  6.   6.2  6.4  6.6  6.8  7.   7.2  7.4  7.6  7.8  8.   8.2\n",
      "  8.4  8.6  8.8  9.   9.2  9.4  9.6  9.8 10.  10.2 10.4 10.6 10.8 11.\n",
      " 11.2 11.4 11.6 11.8 12.  12.2 12.4 12.6 12.8 13.  13.2 13.4 13.6 13.8\n",
      " 14.  14.2 14.4 14.6 14.8 15.  15.2 15.4 15.6 15.8 16.  16.2 16.4 16.6\n",
      " 16.8 17.  17.2 17.4 17.6 17.8 18.  18.2 18.4 18.6 18.8]\n",
      "y= [ 1.          0.9145125   0.8561927   0.82245527  0.81096087  0.8195928\n",
      "  0.8464358   0.88975686  0.94798787  1.01970997  1.10363932  1.19861425\n",
      "  1.30358362  1.41759634  1.53979183  1.66939139  1.80569043  1.94805142\n",
      "  2.09589747  2.24870663  2.40600659  2.56736998  2.73241014  2.90077716\n",
      "  3.07215445  3.24625555  3.42282126  3.60161703  3.78243065  3.96507009\n",
      "  4.14936161  4.33514799  4.52228697  4.71064983  4.90012012  5.09059244\n",
      "  5.28197143  5.47417083  5.66711255  5.86072595  6.05494712  6.24971821\n",
      "  6.4449869   6.64070584  6.83683217  7.03332713  7.23015563  7.42728595\n",
      "  7.62468935  7.82233985  8.02021393  8.21829032  8.41654977  8.61497485\n",
      "  8.81354981  9.01226038  9.21109365  9.41003795  9.60908271  9.80821838\n",
      " 10.0074363  10.20672864 10.40608833 10.60550895 10.8049847  11.00451034\n",
      " 11.20408113 11.40369276 11.60334135 11.80302338 12.00273566 12.20247533\n",
      " 12.40223977 12.60202663 12.80183377 13.00165926 13.20150136 13.40135849\n",
      " 13.60122921 13.80111224 14.0010064  14.20091062 14.40082397 14.60074556\n",
      " 14.80067461 15.00061041 15.20055232 15.40049976 15.6004522  15.80040917\n",
      " 16.00037023 16.200335   16.40030312 16.60027428 16.80024817]\n"
     ]
    },
    {
     "data": {
      "text/plain": [
       "[<matplotlib.lines.Line2D at 0x2181292cfa0>]"
      ]
     },
     "execution_count": 105,
     "metadata": {},
     "output_type": "execute_result"
    },
    {
     "data": {
      "image/png": "[encoded data removed]",
      "text/plain": [
       "<Figure size 432x288 with 1 Axes>"
      ]
     },
     "metadata": {
      "needs_background": "light"
     },
     "output_type": "display_data"
    }
   ],
   "source": [
    "# run\n",
    "x,y = RK45(0,1,19,0.2)\n",
    "print('x=',x)\n",
    "print('y=',y)\n",
    "plt.plot(x,y)"
   ]
  }
 ],
 "metadata": {
  "kernelspec": {
   "display_name": "Python 3",
   "language": "python",
   "name": "python3"
  },
  "language_info": {
   "codemirror_mode": {
    "name": "ipython",
    "version": 3
   },
   "file_extension": ".py",
   "mimetype": "text/x-python",
   "name": "python",
   "nbconvert_exporter": "python",
   "pygments_lexer": "ipython3",
   "version": "3.8.3"
  }
 },
 "nbformat": 4,
 "nbformat_minor": 4
}
